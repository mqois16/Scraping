{
 "cells": [
  {
   "cell_type": "code",
   "execution_count": 1,
   "metadata": {},
   "outputs": [],
   "source": [
    "from numpy import dtype\n",
    "import requests\n",
    "from bs4 import BeautifulSoup\n",
    "from datetime import datetime"
   ]
  },
  {
   "cell_type": "code",
   "execution_count": null,
   "metadata": {},
   "outputs": [],
   "source": [
    "url = 'https://www.tokopedia.com/indomieofficial/5-pcs-indomie-goreng-spesial'\n",
    "headers = {\n",
    "    'user-agent': 'Mozilla/5.0 (Windows NT 10.0; Win64; x64) AppleWebKit/537.36 (KHTML, like Gecko) Chrome/98.0.4758.102 Safari/537.36'\n",
    "}\n",
    "req = requests.get(url, headers=headers)\n",
    "soup = BeautifulSoup(req.text, \"html.parser\")\n",
    "items = soup.findAll('div', 'css-qa82pd')\n",
    "for item in items:\n",
    "    productName = item.find('div', 'css-1b6t4dn').text\n",
    "    productPrice = item.find(\n",
    "        'div', 'css-1ksb19c').text.replace('.', '').replace('Rp ', '')\n",
    "    productSold = item.find('span', 'css-1duhs3e').text.replace('Terjual ', '')\n",
    "    Rating = item.find('span', 'css-t70v7i').text.replace('.', '')\n",
    "    Toko = \"Samsung Official Store\"\n",
    "    Lokasi = \"Jakarta\"\n",
    "    Date = datetime.today().strftime('%Y-%m-%d')\n",
    "\n",
    "    # kirim = {'idx': '', 'Produk': productName, 'Harga': int(productPrice), 'Terjual': int(\n",
    "    #     productSold), 'Rating': int(Rating), 'Toko': Toko, 'Lokasi': Lokasi, 'Date': Date}\n",
    "\n",
    "    # reqPost = requests.post(\n",
    "    #     'http://127.0.0.1/pmldi2api/crawl.php?function=insert_data', data=kirim)\n",
    "    # print(reqPost)\n",
    "    # print(reqPost.json())\n",
    "    print(productName, \" | \", productPrice, \" | \", productSold,\" | \", Rating, \" | \", Toko, \" | \", Lokasi, \" | \", Date)\n"
   ]
  }
 ],
 "metadata": {
  "interpreter": {
   "hash": "ac59ebe37160ed0dfa835113d9b8498d9f09ceb179beaac4002f036b9467c963"
  },
  "kernelspec": {
   "display_name": "Python 3.9.5 64-bit",
   "language": "python",
   "name": "python3"
  },
  "language_info": {
   "codemirror_mode": {
    "name": "ipython",
    "version": 3
   },
   "file_extension": ".py",
   "mimetype": "text/x-python",
   "name": "python",
   "nbconvert_exporter": "python",
   "pygments_lexer": "ipython3",
   "version": "3.10.0"
  },
  "orig_nbformat": 4
 },
 "nbformat": 4,
 "nbformat_minor": 2
}
