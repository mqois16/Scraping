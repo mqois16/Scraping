{
 "cells": [
  {
   "cell_type": "code",
   "execution_count": 1,
   "metadata": {},
   "outputs": [],
   "source": [
    "import mysql.connector\n",
    "import pandas as pd"
   ]
  },
  {
   "cell_type": "code",
   "execution_count": null,
   "metadata": {},
   "outputs": [],
   "source": [
    "my_conn = mysql.connector.connect(host=\"relational.fot.cvut.cz\"\n",
    "                                port=3306\n",
    "                                user=\n",
    "                                passwd=\n",
    "                                database=\n",
    "                                use_pure=True)"
   ]
  },
  {
   "cell_type": "code",
   "execution_count": 2,
   "metadata": {},
   "outputs": [],
   "source": [
    "from numpy import dtype\n",
    "import requests\n",
    "from bs4 import BeautifulSoup\n",
    "from datetime import datetime"
   ]
  },
  {
   "cell_type": "code",
   "execution_count": 36,
   "metadata": {},
   "outputs": [
    {
     "name": "stdout",
     "output_type": "stream",
     "text": [
      "Scrapping data from page 1\n",
      "Toko dan Lokasi np.nan\n",
      "{'id': '', 'produk': 'POP MIE PAKE NASI RASA SOTO AYAM', 'brand': 'np.nan', 'harga': 'Rp 5.200', 'terjual': '389', 'rating': 46, 'toko': 'np.nan', 'lokasi': 'np.nan', 'date': '2022-03-25', 'marketplace': 'Tokopedia', 'seri': 'best_earphone01'}\n",
      "Toko dan Lokasi np.nan\n",
      "{'id': '', 'produk': 'INDOMIE MIE GORENG JUMBO 129 GRAM', 'brand': 'np.nan', 'harga': 'Rp 3.900', 'terjual': '4,7 rb', 'rating': 47, 'toko': 'np.nan', 'lokasi': 'np.nan', 'date': '2022-03-25', 'marketplace': 'Tokopedia', 'seri': 'best_earphone01'}\n",
      "Toko dan Lokasi np.nan\n",
      "{'id': '', 'produk': 'INDOMIE KARI AYAM 72 GRAM', 'brand': 'np.nan', 'harga': 'Rp 2.700', 'terjual': '10 rb', 'rating': 47, 'toko': 'np.nan', 'lokasi': 'np.nan', 'date': '2022-03-25', 'marketplace': 'Tokopedia', 'seri': 'best_earphone01'}\n",
      "{'id': '', 'produk': 'Indomie Mi Goreng Original Mi Instant 85gr', 'brand': 'np.nan', 'harga': 'Rp2.699', 'terjual': '987', 'rating': 48, 'toko': 'Mie Baso Kampung', 'lokasi': 'Jakarta Selatan', 'date': '2022-03-25', 'marketplace': 'Tokopedia', 'seri': 'best_earphone01'}\n",
      "{'id': '', 'produk': 'Mie Instant Goreng BEST WOK 85 gr 85gr', 'brand': 'np.nan', 'harga': 'Rp3.200', 'terjual': '3,1 rb', 'rating': 49, 'toko': 'vivari88', 'lokasi': 'Jakarta Utara', 'date': '2022-03-25', 'marketplace': 'Tokopedia', 'seri': 'best_earphone01'}\n",
      "{'id': '', 'produk': 'FITMEE BAYAM GORENG PEDAS KOREA 65GR | SPINACH NOODLE MIE SEHAT', 'brand': 'np.nan', 'harga': 'Rp6.700', 'terjual': '185', 'rating': 49, 'toko': 'Curate', 'lokasi': 'Kab. Tangerang', 'date': '2022-03-25', 'marketplace': 'Tokopedia', 'seri': 'best_earphone01'}\n",
      "{'id': '', 'produk': 'PROMO MURAH SALE BAKMI SUNDORO MIE GORENG & GODHOG JOGJA YOGYA', 'brand': 'np.nan', 'harga': 'Rp12.500', 'terjual': '2,4 rb', 'rating': 49, 'toko': 'Mie Baso Kampung', 'lokasi': 'Jakarta Selatan', 'date': '2022-03-25', 'marketplace': 'Tokopedia', 'seri': 'best_earphone01'}\n",
      "{'id': '', 'produk': 'Javara Rainbow Veggie Noodle - Mi Instan Sehat Rasa Mi Goreng 76g', 'brand': 'np.nan', 'harga': 'Rp8.250', 'terjual': '3,0 rb', 'rating': 49, 'toko': 'Javara Indonesia', 'lokasi': 'Jakarta Selatan', 'date': '2022-03-25', 'marketplace': 'Tokopedia', 'seri': 'best_earphone01'}\n",
      "{'id': '', 'produk': 'Paket Bundling Indomie Goreng', 'brand': 'np.nan', 'harga': 'Rp60.000', 'terjual': '744', 'rating': 49, 'toko': 'KedaiMart Official Store', 'lokasi': 'Tangerang', 'date': '2022-03-25', 'marketplace': 'Tokopedia', 'seri': 'best_earphone01'}\n",
      "{'id': '', 'produk': 'GAGA 1000 Goreng Spesial 50g (1 dus = 40 pcs)', 'brand': 'np.nan', 'harga': 'Rp41.000', 'terjual': '3,8 rb', 'rating': 47, 'toko': 'Gaga Official Store', 'lokasi': 'Jakarta Selatan', 'date': '2022-03-25', 'marketplace': 'Tokopedia', 'seri': 'best_earphone01'}\n",
      "{'id': '', 'produk': 'Mie Goreng BEST WOK Mie Instant isi 20 bungkus (1 KARTON)', 'brand': 'np.nan', 'harga': 'Rp60.000', 'terjual': '475', 'rating': 50, 'toko': 'MIC Publishing', 'lokasi': 'Jakarta Pusat', 'date': '2022-03-25', 'marketplace': 'Tokopedia', 'seri': 'best_earphone01'}\n",
      "{'id': '', 'produk': 'Mie Goreng BEST WOK Mie Instant isi 5 bungkus (1 pack)', 'brand': 'np.nan', 'harga': 'Rp16.000', 'terjual': '2,0 rb', 'rating': 49, 'toko': 'MIC Publishing', 'lokasi': 'Jakarta Pusat', 'date': '2022-03-25', 'marketplace': 'Tokopedia', 'seri': 'best_earphone01'}\n",
      "{'id': '', 'produk': 'Mi Instan INDOMIE Goreng', 'brand': 'np.nan', 'harga': 'Rp2.750', 'terjual': '7,7 rb', 'rating': 49, 'toko': 'Freezy Fresh', 'lokasi': 'Jakarta Pusat', 'date': '2022-03-25', 'marketplace': 'Tokopedia', 'seri': 'best_earphone01'}\n"
     ]
    },
    {
     "ename": "KeyboardInterrupt",
     "evalue": "",
     "output_type": "error",
     "traceback": [
      "\u001b[1;31m---------------------------------------------------------------------------\u001b[0m",
      "\u001b[1;31mKeyboardInterrupt\u001b[0m                         Traceback (most recent call last)",
      "\u001b[1;32mUntitled-1.ipynb Cell 4'\u001b[0m in \u001b[0;36m<cell line: 9>\u001b[1;34m()\u001b[0m\n\u001b[0;32m     <a href='vscode-notebook-cell:Untitled-1.ipynb?jupyter-notebook#ch0000004untitled?line=20'>21</a>\u001b[0m \u001b[39mfor\u001b[39;00m item \u001b[39min\u001b[39;00m items:\n\u001b[0;32m     <a href='vscode-notebook-cell:Untitled-1.ipynb?jupyter-notebook#ch0000004untitled?line=21'>22</a>\u001b[0m     \u001b[39mfrom\u001b[39;00m \u001b[39mtime\u001b[39;00m \u001b[39mimport\u001b[39;00m sleep\n\u001b[1;32m---> <a href='vscode-notebook-cell:Untitled-1.ipynb?jupyter-notebook#ch0000004untitled?line=22'>23</a>\u001b[0m     sleep(\u001b[39m7\u001b[39;49m)\n\u001b[0;32m     <a href='vscode-notebook-cell:Untitled-1.ipynb?jupyter-notebook#ch0000004untitled?line=24'>25</a>\u001b[0m     productName \u001b[39m=\u001b[39m item\u001b[39m.\u001b[39mfind(\u001b[39m'\u001b[39m\u001b[39mdiv\u001b[39m\u001b[39m'\u001b[39m, \u001b[39m'\u001b[39m\u001b[39mcss-1b6t4dn\u001b[39m\u001b[39m'\u001b[39m)\u001b[39m.\u001b[39mtext \u001b[39m#Scrap nama product\u001b[39;00m\n\u001b[0;32m     <a href='vscode-notebook-cell:Untitled-1.ipynb?jupyter-notebook#ch0000004untitled?line=25'>26</a>\u001b[0m     productBrand \u001b[39m=\u001b[39m \u001b[39m\"\u001b[39m\u001b[39mnp.nan\u001b[39m\u001b[39m\"\u001b[39m \u001b[39m#Tulis manual nama produk\u001b[39;00m\n",
      "\u001b[1;31mKeyboardInterrupt\u001b[0m: "
     ]
    }
   ],
   "source": [
    "keyword = \"mie goreng\"\n",
    "\n",
    "# Set variabel lain secara manual     \n",
    "\n",
    "Marketplace = \"Tokopedia\"\n",
    "Seri = \"mieGoreng01\"\n",
    "\n",
    "\n",
    "for i in range(67):\n",
    "    url = 'https://www.tokopedia.com/search?page={}&q={}&srp_component_id=02.01.00.00&st=product'.format(i+1,keyword.replace(\" \",\"%20\")) #URL page yang di-scrap, langsung dari store\n",
    "    print(\"Scrapping data from page {}\".format(i+1))\n",
    "    headers = {  'user-agent': 'Mozilla/5.0 (Windows NT 10.0; Win64; x64) AppleWebKit/537.36 (KHTML, like Gecko) Chrome/98.0.4758.102 Safari/537.36' } #set headers\n",
    "    req = requests.get(url, headers=headers)\n",
    "\n",
    "    soup = BeautifulSoup(req.text, \"html.parser\")\n",
    "\n",
    "    items = soup.findAll('div', 'css-974ipl')\n",
    "    for data in soup(['style', 'script']):\n",
    "        # Remove tags\n",
    "        data.decompose()\n",
    "    for item in items:\n",
    "        from time import sleep\n",
    "        sleep(7)\n",
    "\n",
    "        productName = item.find('div', 'css-1b6t4dn').text #Scrap nama product\n",
    "        productBrand = \"np.nan\" #Tulis manual nama produk\n",
    "        productPrice = item.find('div', 'css-1ksb19c').text\n",
    "\n",
    "        #Scrap jumlah produk terjual dengan try untuk antisipasi error karena nilai nol\n",
    "        try:\n",
    "            productSold = item.find('span', 'css-1duhs3e').text.replace('Terjual ', '')\n",
    "        except:\n",
    "            productSold = 0 #Jika error maka nol\n",
    "\n",
    "        #Scrap jumlah produk terjual dengan try untuk antisipasi error karena nilai nol\n",
    "        try:\n",
    "            Rating = item.find('span', 'css-t70v7i').text.replace('.', '')\n",
    "        except:\n",
    "            Rating = 0 #Jika error maka nol\n",
    "\n",
    "        #Scrapper Toko dan Lokasi\n",
    "        try:\n",
    "            \n",
    "            htmlTag = ['<div class=\"css-1rn0irl\"><span class=\"css-1kdc32b flip\" data-testid=\"spnSRPProdTabShopLoc\">','</span><span class=\"css-1kdc32b flip\" data-testid=\"\">','</span></div>']\n",
    "            getDiv = item.find('div', 'css-1rn0irl')\n",
    "            strDiv = str(getDiv)\n",
    "            clean1 = strDiv.replace('<div class=\"css-1rn0irl\"><span class=\"css-1kdc32b flip\" data-testid=\"spnSRPProdTabShopLoc\">','')\n",
    "            clean2 = clean1.replace('</span><span class=\"css-1kdc32b flip\" data-testid=\"\">','??')\n",
    "            clean3 = clean2.replace('</span></div>','')\n",
    "            tokLok = clean3.split('??')\n",
    "            #Masukkan Data\n",
    "            Toko = tokLok[1]\n",
    "            Lokasi = tokLok[0]\n",
    "            \n",
    "        except:\n",
    "            Toko = \"np.nan\"\n",
    "            Lokasi = \"np.nan\"\n",
    "            print(\"Toko dan Lokasi np.nan\")    \n",
    "        \n",
    "\n",
    "        #Set variable date sesuai tanggal ambil data\n",
    "        Date = datetime.today().strftime('%Y-%m-%d')\n",
    "\n",
    "        #Jadikan data diatas bentuk dict\n",
    "        kirim = {'id': '', 'produk': productName,'brand': productBrand, 'harga': productPrice, 'terjual': productSold, 'rating': int(Rating), 'toko': Toko, 'lokasi': Lokasi, 'date': Date,'marketplace':Marketplace,'seri':Seri}\n",
    "\n",
    "        # reqPost = requests.post('https://ugm.qoishuzyan.com/crawl.php?function=insert_data', data=kirim) #Post data ke database lewat api\n",
    "        # print(reqPost)\n",
    "        # print(reqPost.json())\n",
    "\n",
    "        print(kirim) #untuk melihat data yang di-scrap"
   ]
  }
 ],
 "metadata": {
  "interpreter": {
   "hash": "ac59ebe37160ed0dfa835113d9b8498d9f09ceb179beaac4002f036b9467c963"
  },
  "kernelspec": {
   "display_name": "Python 3.9.5 64-bit",
   "language": "python",
   "name": "python3"
  },
  "language_info": {
   "codemirror_mode": {
    "name": "ipython",
    "version": 3
   },
   "file_extension": ".py",
   "mimetype": "text/x-python",
   "name": "python",
   "nbconvert_exporter": "python",
   "pygments_lexer": "ipython3",
   "version": "3.10.0"
  },
  "orig_nbformat": 4
 },
 "nbformat": 4,
 "nbformat_minor": 2
}
