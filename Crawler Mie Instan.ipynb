{
 "cells": [
  {
   "cell_type": "code",
   "execution_count": 51,
   "metadata": {},
   "outputs": [],
   "source": [
    "from numpy import dtype\n",
    "import requests\n",
    "from bs4 import BeautifulSoup\n",
    "from datetime import datetime"
   ]
  },
  {
   "cell_type": "code",
   "execution_count": 52,
   "metadata": {},
   "outputs": [],
   "source": [
    "#Set variable date\n",
    "Date = datetime.today().strftime('%Y-%m-%d')"
   ]
  },
  {
   "cell_type": "markdown",
   "metadata": {},
   "source": [
    "### Crawler Indomie"
   ]
  },
  {
   "cell_type": "code",
   "execution_count": 53,
   "metadata": {},
   "outputs": [
    {
     "name": "stdout",
     "output_type": "stream",
     "text": [
      "<Response [200]>\n",
      "{'status': 1, 'message': 'Insert Success'}\n",
      "5 Pcs - Indomie Goreng Sambal Rica-rica  |  14700  |  760  |  49  |  Indomie Official Store  |  Jakarta  |  2022-03-24\n",
      "<Response [200]>\n",
      "{'status': 1, 'message': 'Insert Success'}\n",
      "10 Pcs - Indomie Goreng Sambal Rica-rica  |  29000  |  492  |  49  |  Indomie Official Store  |  Jakarta  |  2022-03-24\n",
      "<Response [200]>\n",
      "{'status': 1, 'message': 'Insert Success'}\n",
      "1 Dus isi 40 Pcs - Indomie Goreng Pedas  |  113000  |  695  |  48  |  Indomie Official Store  |  Jakarta  |  2022-03-24\n",
      "<Response [200]>\n",
      "{'status': 1, 'message': 'Insert Success'}\n",
      "10 Pcs - Indomie Goreng Pedas  |  29000  |  2,0 rb  |  48  |  Indomie Official Store  |  Jakarta  |  2022-03-24\n",
      "<Response [200]>\n",
      "{'status': 1, 'message': 'Insert Success'}\n",
      "10 Pcs - Indomie Goreng Spesial  |  29000  |  7,3 rb  |  48  |  Indomie Official Store  |  Jakarta  |  2022-03-24\n",
      "<Response [200]>\n",
      "{'status': 1, 'message': 'Insert Success'}\n",
      "5 Pcs - Indomie Goreng Pedas  |  14700  |  2,0 rb  |  48  |  Indomie Official Store  |  Jakarta  |  2022-03-24\n",
      "<Response [200]>\n",
      "{'status': 1, 'message': 'Insert Success'}\n",
      "5 Pcs - Indomie Goreng Spesial  |  14700  |  5,3 rb  |  48  |  Indomie Official Store  |  Jakarta  |  2022-03-24\n",
      "<Response [200]>\n",
      "{'status': 1, 'message': 'Insert Success'}\n",
      "1 Dus Isi 40 Pcs - Indomie Goreng Sambal Rica-rica  |  113000  |  142  |  50  |  Indomie Official Store  |  Jakarta  |  2022-03-24\n",
      "<Response [200]>\n",
      "{'status': 1, 'message': 'Insert Success'}\n",
      "1 Dus Isi 40 Pcs - Indomie Goreng Spesial Special Pack  |  121000  |  305  |  48  |  Indomie Official Store  |  Jakarta  |  2022-03-24\n",
      "<Response [200]>\n",
      "{'status': 1, 'message': 'Insert Success'}\n",
      "10 Pcs - Indomie Goreng Kriuk Pedas  |  30000  |  165  |  48  |  Indomie Official Store  |  Jakarta  |  2022-03-24\n"
     ]
    }
   ],
   "source": [
    "url = 'https://www.tokopedia.com/indomieofficial/etalase/goreng'\n",
    "headers = {\n",
    "    'user-agent': 'Mozilla/5.0 (Windows NT 10.0; Win64; x64) AppleWebKit/537.36 (KHTML, like Gecko) Chrome/98.0.4758.102 Safari/537.36'\n",
    "}\n",
    "req = requests.get(url, headers=headers)\n",
    "soup = BeautifulSoup(req.text, \"html.parser\")\n",
    "items = soup.findAll('div', 'css-974ipl')\n",
    "for item in items:\n",
    "    productName = item.find('div', 'css-1b6t4dn').text\n",
    "    productBrand = \"Indomie\"\n",
    "    productPrice = item.find(\n",
    "        'div', 'css-1ksb19c').text.replace('.', '').replace('Rp ', '')\n",
    "    productSold = item.find('span', 'css-1duhs3e').text.replace('Terjual ', '')\n",
    "    Rating = item.find('span', 'css-t70v7i').text.replace('.', '')\n",
    "    Toko = \"Indomie Official Store\"\n",
    "    Lokasi = \"Jakarta\"\n",
    "    Marketplace = \"Tokopedia\"\n",
    "    Seri = \"mi_instan_maret2022\"\n",
    "\n",
    "    kirim = {'id': '', 'produk': productName,'brand': productBrand, 'harga': int(productPrice), 'terjual': productSold, 'rating': int(Rating), 'toko': Toko, 'lokasi': Lokasi, 'date': Date,'marketplace':Marketplace,'seri':Seri}\n",
    "\n",
    "    reqPost = requests.post(\n",
    "        'https://ugm.qoishuzyan.com/crawl.php?function=insert_data', data=kirim)\n",
    "    print(reqPost)\n",
    "    print(reqPost.json())\n",
    "    print(productName, \" | \", productPrice, \" | \", productSold,\" | \", Rating, \" | \", Toko, \" | \", Lokasi, \" | \", Date)\n"
   ]
  },
  {
   "cell_type": "markdown",
   "metadata": {},
   "source": [
    "### Crawler Mie Sukses"
   ]
  },
  {
   "cell_type": "code",
   "execution_count": 54,
   "metadata": {},
   "outputs": [
    {
     "name": "stdout",
     "output_type": "stream",
     "text": [
      "<Response [200]>\n",
      "{'status': 1, 'message': 'Insert Success'}\n",
      "Suksess Mie Instan Goreng Ayam Geprek 126 gr isi 2 x 12 pcs  |  35500  |  378  |  49  |  Wings Official Store  |  Jakarta Selatan  |  2022-03-24\n",
      "<Response [200]>\n",
      "{'status': 1, 'message': 'Insert Success'}\n",
      "Suksess Mie Instan Goreng Ayam Geprek 126 gr isi 2  |  3600  |  1,8 rb  |  48  |  Wings Official Store  |  Jakarta Selatan  |  2022-03-24\n",
      "<Response [200]>\n",
      "{'status': 1, 'message': 'Insert Success'}\n",
      "Suksess Mie Instan Goreng Ayam Kremes 133 gr isi 2  |  3600  |  5,6 rb  |  49  |  Wings Official Store  |  Jakarta Selatan  |  2022-03-24\n",
      "<Response [200]>\n",
      "{'status': 1, 'message': 'Insert Success'}\n",
      "Suksess Mie Instan Goreng Ayam Kecap 129 gr isi 2  |  3600  |  4,1 rb  |  49  |  Wings Official Store  |  Jakarta Selatan  |  2022-03-24\n",
      "<Response [200]>\n",
      "{'status': 1, 'message': 'Insert Success'}\n",
      "Suksess Mie Instan Soto 111 gr isi 2  |  3185  |  4,6 rb  |  48  |  Wings Official Store  |  Jakarta Selatan  |  2022-03-24\n",
      "<Response [200]>\n",
      "{'status': 1, 'message': 'Insert Success'}\n",
      "Suksess Mie Instan Goreng Ayam Geprek 126 gr isi2 x 12pcs Free Totebag  |  41400  |  296  |  49  |  Wings Official Store  |  Jakarta Selatan  |  2022-03-24\n"
     ]
    }
   ],
   "source": [
    "url = 'https://www.tokopedia.com/wingsofficial/etalase/mie-suksess'\n",
    "headers = {\n",
    "    'user-agent': 'Mozilla/5.0 (Windows NT 10.0; Win64; x64) AppleWebKit/537.36 (KHTML, like Gecko) Chrome/98.0.4758.102 Safari/537.36'\n",
    "}\n",
    "req = requests.get(url, headers=headers)\n",
    "soup = BeautifulSoup(req.text, \"html.parser\")\n",
    "items = soup.findAll('div', 'css-974ipl')\n",
    "for item in items:\n",
    "    productName = item.find('div', 'css-1b6t4dn').text\n",
    "    productBrand = \"Mie Suksess\"\n",
    "    productPrice = item.find(\n",
    "        'div', 'css-1ksb19c').text.replace('.', '').replace('Rp ', '')\n",
    "    productSold = item.find('span', 'css-1duhs3e').text.replace('Terjual ', '')\n",
    "    Rating = item.find('span', 'css-t70v7i').text.replace('.', '')\n",
    "    Toko = \"Wings Official Store\"\n",
    "    Lokasi = \"Jakarta Selatan\"\n",
    "    Marketplace = \"Tokopedia\"\n",
    "    Seri = \"mi_instan_maret2022\"\n",
    "\n",
    "    kirim = {'id': '', 'produk': productName,'brand': productBrand, 'harga': int(productPrice), 'terjual': productSold, 'rating': int(Rating), 'toko': Toko, 'lokasi': Lokasi, 'date': Date,'marketplace':Marketplace,'seri':Seri}\n",
    "\n",
    "    reqPost = requests.post(\n",
    "        'https://ugm.qoishuzyan.com/crawl.php?function=insert_data', data=kirim)\n",
    "    print(reqPost)\n",
    "    print(reqPost.json())\n",
    "    print(productName, \" | \", productPrice, \" | \", productSold,\" | \", Rating, \" | \", Toko, \" | \", Lokasi, \" | \", Date)"
   ]
  },
  {
   "cell_type": "markdown",
   "metadata": {},
   "source": [
    "### Crawler Mie Sedaap"
   ]
  },
  {
   "cell_type": "code",
   "execution_count": 55,
   "metadata": {},
   "outputs": [
    {
     "name": "stdout",
     "output_type": "stream",
     "text": [
      "<Response [200]>\n",
      "{'status': 1, 'message': 'Insert Success'}\n",
      "Sedaap Mie Instan Sambal Goreng 88 gr x 5 pcs  |  16082  |  1,0 rb  |  49  |  Wings Official Store  |  Jakarta Selatan  |  2022-03-24\n",
      "<Response [200]>\n",
      "{'status': 1, 'message': 'Insert Success'}\n",
      "Sedaap Mie Instan Goreng 90 gr x 20 pcs  |  52836  |  4,2 rb  |  49  |  Wings Official Store  |  Jakarta Selatan  |  2022-03-24\n",
      "<Response [200]>\n",
      "{'status': 1, 'message': 'Insert Success'}\n",
      "Sedaap Mie Instan Sambal Goreng 88 gr x 20 pcs  |  54700  |  392  |  49  |  Wings Official Store  |  Jakarta Selatan  |  2022-03-24\n",
      "<Response [200]>\n",
      "{'status': 1, 'message': 'Insert Success'}\n",
      "Sedaap Mie Instan Sambal Goreng 88 gr  |  2800  |  2,5 rb  |  48  |  Wings Official Store  |  Jakarta Selatan  |  2022-03-24\n",
      "<Response [200]>\n",
      "{'status': 1, 'message': 'Insert Success'}\n",
      "Sedaap Mie Instan Sambal Goreng 88 gr 1 Dus isi 40 pcs  |  103740  |  344  |  48  |  Wings Official Store  |  Jakarta Selatan  |  2022-03-24\n",
      "<Response [200]>\n",
      "{'status': 1, 'message': 'Insert Success'}\n",
      "Sedaap Mie Instan Goreng 90 gr 1 Dus isi 40 pcs  |  106100  |  3,7 rb  |  49  |  Wings Official Store  |  Jakarta Selatan  |  2022-03-24\n",
      "<Response [200]>\n",
      "{'status': 1, 'message': 'Insert Success'}\n",
      "Sedaap Mie Instan Goreng Salero Padang 86 gr  |  2400  |  16 rb  |  49  |  Wings Official Store  |  Jakarta Selatan  |  2022-03-24\n",
      "<Response [200]>\n",
      "{'status': 1, 'message': 'Insert Success'}\n",
      "Sedaap Mie Instan Goreng 90 gr  |  2800  |  20 rb  |  49  |  Wings Official Store  |  Jakarta Selatan  |  2022-03-24\n",
      "<Response [200]>\n",
      "{'status': 1, 'message': 'Insert Success'}\n",
      "Sedaap Mie Instan Goreng x 20 pcs Free Pouch  |  52900  |  2,4 rb  |  49  |  Wings Official Store  |  Jakarta Selatan  |  2022-03-24\n",
      "<Response [200]>\n",
      "{'status': 1, 'message': 'Insert Success'}\n",
      "Sedaap Mie Instan Ayam Bakar Limau 89 gr x 9 Free 3 pcs Sedaap Goreng  |  33900  |  100  |  49  |  Wings Official Store  |  Jakarta Selatan  |  2022-03-24\n"
     ]
    }
   ],
   "source": [
    "url = \"https://www.tokopedia.com/wingsofficial/etalase/mie-sedaap?q=sedaap%20goreng&srp_component_id=02.01.00.00&srp_page_id=7179543&srp_page_title=Wings%20Official%20Store&navsource=shop\"\n",
    "headers = {\n",
    "    'user-agent': 'Mozilla/5.0 (Windows NT 10.0; Win64; x64) AppleWebKit/537.36 (KHTML, like Gecko) Chrome/98.0.4758.102 Safari/537.36'\n",
    "}\n",
    "req = requests.get(url, headers=headers)\n",
    "soup = BeautifulSoup(req.text, \"html.parser\")\n",
    "items = soup.findAll('div', 'css-974ipl')\n",
    "for item in items:\n",
    "    productName = item.find('div', 'css-1b6t4dn').text\n",
    "    productBrand = \"Mie Sedaap\"\n",
    "    productPrice = item.find(\n",
    "        'div', 'css-1ksb19c').text.replace('.', '').replace('Rp ', '')\n",
    "    productSold = item.find('span', 'css-1duhs3e').text.replace('Terjual ', '')\n",
    "    Rating = item.find('span', 'css-t70v7i').text.replace('.', '')\n",
    "    Toko = \"Wings Official Store\"\n",
    "    Lokasi = \"Jakarta Selatan\"\n",
    "    Marketplace = \"Tokopedia\"\n",
    "    Seri = \"mi_instan_maret2022\"\n",
    "\n",
    "    kirim = {'id': '', 'produk': productName,'brand': productBrand, 'harga': int(productPrice), 'terjual': productSold, 'rating': int(Rating), 'toko': Toko, 'lokasi': Lokasi, 'date': Date,'marketplace':Marketplace,'seri':Seri}\n",
    "\n",
    "    reqPost = requests.post(\n",
    "        'https://ugm.qoishuzyan.com/crawl.php?function=insert_data', data=kirim)\n",
    "    print(reqPost)\n",
    "    print(reqPost.json())\n",
    "    print(productName, \" | \", productPrice, \" | \", productSold,\" | \", Rating, \" | \", Toko, \" | \", Lokasi, \" | \", Date)"
   ]
  },
  {
   "cell_type": "markdown",
   "metadata": {},
   "source": [
    "### Crawler Lemonilo"
   ]
  },
  {
   "cell_type": "code",
   "execution_count": 56,
   "metadata": {},
   "outputs": [
    {
     "name": "stdout",
     "output_type": "stream",
     "text": [
      "<Response [200]>\n",
      "{'status': 1, 'message': 'Insert Success'}\n",
      "Paket Lemonilo Mie Instan Rasa Pedas Korea isi 10 Pcs  |  88000  |  2,7 rb  |  49  |  Lemonilo  |  Jakarta Barat  |  2022-03-24\n",
      "<Response [200]>\n",
      "{'status': 1, 'message': 'Insert Success'}\n",
      "Paket Lemonilo Mie Instan Rasa Pedas Korea Isi 5 Pcs  |  44000  |  7,6 rb  |  49  |  Lemonilo  |  Jakarta Barat  |  2022-03-24\n",
      "<Response [200]>\n",
      "{'status': 1, 'message': 'Insert Success'}\n",
      "Lemonilo Mie Instan Rasa Pedas Korea  |  6999  |  2,3 rb  |  49  |  Lemonilo  |  Jakarta Barat  |  2022-03-24\n",
      "<Response [200]>\n",
      "{'status': 1, 'message': 'Insert Success'}\n",
      "3 Pcs - Lemonilo Mie Kering + FREE 1 Pc  |  29700  |  89  |  49  |  Lemonilo  |  Jakarta Barat  |  2022-03-24\n",
      "<Response [200]>\n",
      "{'status': 1, 'message': 'Insert Success'}\n",
      "3 Pcs - Lemonilo Mie Kuah Ayam Bawang + FREE 1 Pc  |  29700  |  329  |  49  |  Lemonilo  |  Jakarta Barat  |  2022-03-24\n",
      "<Response [200]>\n",
      "{'status': 1, 'message': 'Insert Success'}\n",
      "3 Pcs - Lemonilo Mie Kuah Kari Ayam + FREE 1 Pc  |  29700  |  348  |  49  |  Lemonilo  |  Jakarta Barat  |  2022-03-24\n",
      "<Response [200]>\n",
      "{'status': 1, 'message': 'Insert Success'}\n",
      "3 Pcs Lemonilo Mie Goreng + FREE 1 Pc  |  29700  |  981  |  49  |  Lemonilo  |  Jakarta Barat  |  2022-03-24\n",
      "<Response [200]>\n",
      "{'status': 1, 'message': 'Insert Success'}\n",
      "Paket Ekonomis Mie Lemonilo  |  40381  |  5,5 rb  |  49  |  Lemonilo  |  Jakarta Barat  |  2022-03-24\n",
      "<Response [200]>\n",
      "{'status': 1, 'message': 'Insert Success'}\n",
      "Paket Lemonilo Mie Goreng Isi 20 GRATIS Holder & Naturizer Lemongrass  |  175764  |  208  |  49  |  Lemonilo  |  Jakarta Barat  |  2022-03-24\n",
      "<Response [200]>\n",
      "{'status': 1, 'message': 'Insert Success'}\n",
      "Paket Lemonilo Mie Kuah Instan Ayam Bawang isi 20 GRATIS Sumpit  |  150271  |  149  |  49  |  Lemonilo  |  Jakarta Barat  |  2022-03-24\n"
     ]
    }
   ],
   "source": [
    "url = 'https://www.tokopedia.com/lemonilo/etalase/mie-instan'\n",
    "headers = {\n",
    "    'user-agent': 'Mozilla/5.0 (Windows NT 10.0; Win64; x64) AppleWebKit/537.36 (KHTML, like Gecko) Chrome/98.0.4758.102 Safari/537.36'\n",
    "}\n",
    "req = requests.get(url, headers=headers)\n",
    "soup = BeautifulSoup(req.text, \"html.parser\")\n",
    "items = soup.findAll('div', 'css-974ipl')\n",
    "for item in items:\n",
    "    productName = item.find('div', 'css-1b6t4dn').text\n",
    "    productBrand = \"Lemonilo\"\n",
    "    productPrice = item.find(\n",
    "        'div', 'css-1ksb19c').text.replace('.', '').replace('Rp ', '')\n",
    "    productSold = item.find('span', 'css-1duhs3e').text.replace('Terjual ', '')\n",
    "    Rating = item.find('span', 'css-t70v7i').text.replace('.', '')\n",
    "    Toko = \"Lemonilo\"\n",
    "    Lokasi = \"Jakarta Barat\"\n",
    "    Marketplace = \"Tokopedia\"\n",
    "    Seri = \"mi_instan_maret2022\"\n",
    "\n",
    "    kirim = {'id': '', 'produk': productName,'brand': productBrand, 'harga': int(productPrice), 'terjual': productSold, 'rating': int(Rating), 'toko': Toko, 'lokasi': Lokasi, 'date': Date,'marketplace':Marketplace,'seri':Seri}\n",
    "\n",
    "    reqPost = requests.post(\n",
    "        'https://ugm.qoishuzyan.com/crawl.php?function=insert_data', data=kirim)\n",
    "    print(reqPost)\n",
    "    print(reqPost.json())\n",
    "    print(productName, \" | \", productPrice, \" | \", productSold,\" | \", Rating, \" | \", Toko, \" | \", Lokasi, \" | \", Date)"
   ]
  },
  {
   "cell_type": "markdown",
   "metadata": {},
   "source": [
    "### Crawler GAGA"
   ]
  },
  {
   "cell_type": "code",
   "execution_count": 57,
   "metadata": {},
   "outputs": [
    {
     "name": "stdout",
     "output_type": "stream",
     "text": [
      "<Response [200]>\n",
      "{'status': 1, 'message': 'Insert Success'}\n",
      "GAGA 1000 Goreng Spesial 50g (1 dus = 40 pcs)  |  41000  |  3,8 rb  |  46  |  Gaga Official Store  |  Jakarta Selatan  |  2022-03-24\n",
      "<Response [200]>\n",
      "{'status': 1, 'message': 'Insert Success'}\n",
      "GAGA Mie Goreng 1pc, Soto Segaar 1pc, GAGA 100 Extra Pedas 6pcs (GG72)  |  20064  |  542  |  48  |  Gaga Official Store  |  Jakarta Selatan  |  2022-03-24\n",
      "<Response [200]>\n",
      "{'status': 1, 'message': 'Insert Success'}\n",
      "GAGA Mie Goreng Spesial 75g 1 Dus (isi 40 pcs)  |  76475  |  130  |  48  |  Gaga Official Store  |  Jakarta Selatan  |  2022-03-24\n",
      "<Response [200]>\n",
      "{'status': 1, 'message': 'Insert Success'}\n",
      "GAGA Mie Goreng, Soto Segaar, Gepeng Goreng, GAGA100 Chipotle (GG73)  |  18376  |  564  |  48  |  Gaga Official Store  |  Jakarta Selatan  |  2022-03-24\n",
      "<Response [200]>\n",
      "{'status': 1, 'message': 'Insert Success'}\n",
      "GAGA 100 Goreng Extra Pedas Jalapeno 3pcs dan Lada Hitam 2pc (GG48)  |  13610  |  1,3 rb  |  48  |  Gaga Official Store  |  Jakarta Selatan  |  2022-03-24\n",
      "<Response [200]>\n",
      "{'status': 1, 'message': 'Insert Success'}\n",
      "GAGA Mie Goreng Spesial 75g 3pcs, GAGA Mie Soto Segaar 70g 2pcs (GG67)  |  9559  |  494  |  48  |  Gaga Official Store  |  Jakarta Selatan  |  2022-03-24\n",
      "<Response [200]>\n",
      "{'status': 1, 'message': 'Insert Success'}\n",
      "GAGA 100 Extra Pedas Goreng Jalapeno, Chipotle, Kuah Jalapeno (GG97)  |  16388  |  210  |  49  |  Gaga Official Store  |  Jakarta Selatan  |  2022-03-24\n",
      "<Response [200]>\n",
      "{'status': 1, 'message': 'Insert Success'}\n",
      "GAGA 100 Extra Pedas Goreng Jalapeno 85g Beli 3 pcs FREE 2 pcs (GG10)  |  13902  |  572  |  48  |  Gaga Official Store  |  Jakarta Selatan  |  2022-03-24\n",
      "<Response [200]>\n",
      "{'status': 1, 'message': 'Insert Success'}\n",
      "GAGA Mie Gepeng, Sosis Sapi, Mie Cup GAGA 100 Goreng Jalapeno (GG21)  |  37483  |  61  |  48  |  Gaga Official Store  |  Jakarta Selatan  |  2022-03-24\n",
      "<Response [200]>\n",
      "{'status': 1, 'message': 'Insert Success'}\n",
      "GAGA Mie Soto Segaar 70g 3pcs, GAGA Goreng Special 75g 2pcs (GG68)  |  9559  |  340  |  48  |  Gaga Official Store  |  Jakarta Selatan  |  2022-03-24\n"
     ]
    }
   ],
   "source": [
    "url = 'https://www.tokopedia.com/gagaofficial/product?q=mie%20goreng&sort=23'\n",
    "headers = {\n",
    "    'user-agent': 'Mozilla/5.0 (Windows NT 10.0; Win64; x64) AppleWebKit/537.36 (KHTML, like Gecko) Chrome/98.0.4758.102 Safari/537.36'\n",
    "}\n",
    "req = requests.get(url, headers=headers)\n",
    "soup = BeautifulSoup(req.text, \"html.parser\")\n",
    "items = soup.findAll('div', 'css-974ipl')\n",
    "for item in items:\n",
    "    productName = item.find('div', 'css-1b6t4dn').text\n",
    "    productBrand = \"Gaga\"\n",
    "    productPrice = item.find(\n",
    "        'div', 'css-1ksb19c').text.replace('.', '').replace('Rp ', '')\n",
    "    productSold = item.find('span', 'css-1duhs3e').text.replace('Terjual ', '')\n",
    "    Rating = item.find('span', 'css-t70v7i').text.replace('.', '')\n",
    "    Toko = \"Gaga Official Store\"\n",
    "    Lokasi = \"Jakarta Selatan\"\n",
    "    Marketplace = \"Tokopedia\"\n",
    "    Seri = \"mi_instan_maret2022\"\n",
    "\n",
    "    kirim = {'id': '', 'produk': productName,'brand': productBrand, 'harga': int(productPrice), 'terjual': productSold, 'rating': int(Rating), 'toko': Toko, 'lokasi': Lokasi, 'date': Date,'marketplace':Marketplace,'seri':Seri}\n",
    "\n",
    "    reqPost = requests.post(\n",
    "        'https://ugm.qoishuzyan.com/crawl.php?function=insert_data', data=kirim)\n",
    "    print(reqPost)\n",
    "    print(reqPost.json())\n",
    "    print(productName, \" | \", productPrice, \" | \", productSold,\" | \", Rating, \" | \", Toko, \" | \", Lokasi, \" | \", Date)"
   ]
  },
  {
   "cell_type": "markdown",
   "metadata": {},
   "source": [
    "### Crawler Search Engine\n",
    "Keyword : \"Mie Goreng\""
   ]
  },
  {
   "cell_type": "code",
   "execution_count": 58,
   "metadata": {},
   "outputs": [
    {
     "name": "stdout",
     "output_type": "stream",
     "text": [
      "<Response [200]>\n",
      "{'status': 1, 'message': 'Insert Success'}\n",
      "GAGA 1000 Goreng Spesial 50g (1 dus = 40 pcs)  |   41000  |  np.nan  |  3,8 rb  |  47  |  np.nan  |  np.nan  |  2022-03-24\n",
      "<Response [200]>\n",
      "{'status': 1, 'message': 'Insert Success'}\n",
      "GAGA 100 Extra Pedas Goreng Lada Hitam Beli 3 pcs FREE 2 pcs (GG12)  |   13902  |  np.nan  |  534  |  49  |  np.nan  |  np.nan  |  2022-03-24\n",
      "<Response [200]>\n",
      "{'status': 1, 'message': 'Insert Success'}\n",
      "GAGA 1000 Rasa Soto Mi (1 dus = 40 pcs)  |   43372  |  np.nan  |  2,6 rb  |  47  |  np.nan  |  np.nan  |  2022-03-24\n",
      "<Response [200]>\n",
      "{'status': 1, 'message': 'Insert Success'}\n",
      "INDOMIE MI GORENG  |  2425  |  np.nan  |  1,6 rb  |  50  |  np.nan  |  np.nan  |  2022-03-24\n",
      "<Response [200]>\n",
      "{'status': 1, 'message': 'Insert Success'}\n",
      "Mie goreng sakura 1 dus  |  60000  |  np.nan  |  50  |  49  |  np.nan  |  np.nan  |  2022-03-24\n",
      "<Response [200]>\n",
      "{'status': 1, 'message': 'Insert Success'}\n",
      "Mie ABC Selera Pedas Mi Instan Fried Goreng Kuah Ayam Bawang Sup Tomat  |  1900  |  np.nan  |  17  |  50  |  np.nan  |  np.nan  |  2022-03-24\n",
      "<Response [200]>\n",
      "{'status': 1, 'message': 'Insert Success'}\n",
      "FITMEE BAYAM GORENG PEDAS KOREA 65GR | SPINACH NOODLE MIE SEHAT  |  6700  |  np.nan  |  179  |  49  |  np.nan  |  np.nan  |  2022-03-24\n",
      "<Response [200]>\n",
      "{'status': 1, 'message': 'Insert Success'}\n",
      "Vegan Baby Mie Goreng 60g - Bayam Spirulina (Vegan & Vegetarian)  |  15900  |  np.nan  |  76  |  49  |  np.nan  |  np.nan  |  2022-03-24\n",
      "<Response [200]>\n",
      "{'status': 1, 'message': 'Insert Success'}\n",
      "Best Wok Mi Goreng Original 5 pcs + Best Wok Hot & Spicy 5 pcs  |  35000  |  np.nan  |  5,2 rb  |  49  |  np.nan  |  np.nan  |  2022-03-24\n",
      "<Response [200]>\n",
      "{'status': 1, 'message': 'Insert Success'}\n",
      "10 Pcs - Indomie Goreng Spesial  |  29000  |  np.nan  |  7,3 rb  |  49  |  np.nan  |  np.nan  |  2022-03-24\n",
      "<Response [200]>\n",
      "{'status': 1, 'message': 'Insert Success'}\n",
      "Sedaap Mie Instan Goreng 90 gr x 20 pcs  |  52836  |  np.nan  |  4,2 rb  |  49  |  np.nan  |  np.nan  |  2022-03-24\n",
      "<Response [200]>\n",
      "{'status': 1, 'message': 'Insert Success'}\n",
      "Best Wok Mi Goreng Original 5 pcs (Export Multipack)  |  17500  |  np.nan  |  4,9 rb  |  49  |  np.nan  |  np.nan  |  2022-03-24\n",
      "<Response [200]>\n",
      "{'status': 1, 'message': 'Insert Success'}\n",
      "Best Wok Mi Goreng Original Twin Pack 10 pcs (Export Multipack)  |  35000  |  np.nan  |  3,6 rb  |  49  |  np.nan  |  np.nan  |  2022-03-24\n",
      "<Response [200]>\n",
      "{'status': 1, 'message': 'Insert Success'}\n",
      "Mi Goreng Mie Instant Sehat | 1 Dus x 77gr | Lemonilo  |  110000  |  np.nan  |  3,0 rb  |  50  |  np.nan  |  np.nan  |  2022-03-24\n",
      "<Response [200]>\n",
      "{'status': 1, 'message': 'Insert Success'}\n",
      "5 Pcs - Indomie Goreng Spesial  |  14700  |  np.nan  |  5,3 rb  |  49  |  np.nan  |  np.nan  |  2022-03-24\n",
      "<Response [200]>\n",
      "{'status': 1, 'message': 'Insert Success'}\n",
      "Mi BonCabe Rasa Mie Goreng BARU!  |  3760  |  np.nan  |  157 rb  |  48  |  np.nan  |  np.nan  |  2022-03-24\n",
      "<Response [200]>\n",
      "{'status': 1, 'message': 'Insert Success'}\n",
      "[PACK] Lemonilo Mie Goreng 77 GR | Mi Instan Sehat Alami Organik  |  5000  |  np.nan  |  15 rb  |  49  |  np.nan  |  np.nan  |  2022-03-24\n",
      "<Response [200]>\n",
      "{'status': 1, 'message': 'Insert Success'}\n",
      "INDOMIE MIE GORENG SPECIAL  |  2650  |  np.nan  |  29 rb  |  50  |  np.nan  |  np.nan  |  2022-03-24\n"
     ]
    }
   ],
   "source": [
    "url = 'https://www.tokopedia.com/search?ob=5&srp_component_id=02.01.00.00&st=product&q=mie%20goreng'\n",
    "headers = {\n",
    "    'user-agent': 'Mozilla/5.0 (Windows NT 10.0; Win64; x64) AppleWebKit/537.36 (KHTML, like Gecko) Chrome/98.0.4758.102 Safari/537.36'\n",
    "}\n",
    "req = requests.get(url, headers=headers)\n",
    "soup = BeautifulSoup(req.text, \"html.parser\")\n",
    "items = soup.findAll('div', 'css-974ipl')\n",
    "for item in items:\n",
    "    productName = item.find('div', 'css-1b6t4dn').text\n",
    "    productBrand = 'np.nan'\n",
    "    productPrice = item.find(\n",
    "        'div', 'css-1ksb19c').text.replace('.', '').replace('Rp', '')\n",
    "    productSold = item.find('span', 'css-1duhs3e').text.replace('Terjual ', '')\n",
    "    Rating = item.find('span', 'css-t70v7i').text.replace('.', '')\n",
    "    Toko = \"np.nan\"\n",
    "    Lokasi = \"np.nan\"\n",
    "    Marketplace = \"Tokopedia\"\n",
    "    Seri = \"mi_instan_maret2022\"\n",
    "\n",
    "    kirim = {'id': '', 'produk': productName,'brand': productBrand, 'harga': int(productPrice), 'terjual': productSold, 'rating': int(Rating), 'toko': Toko, 'lokasi': Lokasi, 'date': Date,'marketplace':Marketplace,'seri':Seri}\n",
    "\n",
    "    reqPost = requests.post(\n",
    "        'https://ugm.qoishuzyan.com/crawl.php?function=insert_data', data=kirim)\n",
    "    print(reqPost)\n",
    "    print(reqPost.json())\n",
    "    print(productName, \" | \", productPrice, \" | \",productBrand,\" | \", productSold,\" | \", Rating, \" | \", Toko, \" | \", Lokasi, \" | \", Date)"
   ]
  },
  {
   "cell_type": "code",
   "execution_count": null,
   "metadata": {},
   "outputs": [],
   "source": []
  }
 ],
 "metadata": {
  "interpreter": {
   "hash": "ac59ebe37160ed0dfa835113d9b8498d9f09ceb179beaac4002f036b9467c963"
  },
  "kernelspec": {
   "display_name": "Python 3",
   "language": "python",
   "name": "python3"
  },
  "language_info": {
   "codemirror_mode": {
    "name": "ipython",
    "version": 3
   },
   "file_extension": ".py",
   "mimetype": "text/x-python",
   "name": "python",
   "nbconvert_exporter": "python",
   "pygments_lexer": "ipython3",
   "version": "3.10.0"
  }
 },
 "nbformat": 4,
 "nbformat_minor": 4
}
